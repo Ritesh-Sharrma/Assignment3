Address = input("Enter your address:")
Name = input("enter your name:")
Course_Name= input("Enter your course:")
Date = input("Joining Date:")
Package = input("Enter your minimum package you want:")
Contact_gmail = input("Enter contact gmail:")
HR_manager = input("Enter HR name:")

print(f"""
{Address}

Dear {Name},

Subject: Offer of Employment for the position of {Course_Name}

We are delighted to extend this formal offer of employment to you for the position of {Course_Name} at our organization. Based on your qualifications and the skills you demonstrated during the recruitment process, we are confident that you will be a valuable addition to our team.

As discussed, your expected date of joining is {Date}. Your total compensation package will be {Package}, which includes all salary components as per the company’s policy. Further details regarding your compensation will be provided in your employment contract.

We expect you to bring your best efforts to help the company achieve its goals, and we are committed to supporting your professional growth during your time with us.

Please confirm your acceptance of this offer by sending an email to {Contact_gmail} your earliest convenience. Should you have any queries regarding this offer, feel free to reach out to us.

We look forward to having you onboard and are excited about the great things we can accomplish together.

Sincerely,

{HR_manager}
HR Manager
""")
