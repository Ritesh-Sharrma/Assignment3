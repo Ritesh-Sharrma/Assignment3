{
 "cells": [
  {
   "cell_type": "code",
   "execution_count": null,
   "id": "0c7f8f8f-4e8d-4ed3-ac0e-d179ef787636",
   "metadata": {},
   "outputs": [
    {
     "name": "stdin",
     "output_type": "stream",
     "text": [
      "Enter your address: A/52 Sector  16 Noida UP\n",
      "enter your name: Ritesh Sharma\n",
      "Enter your course: Python Developer\n",
      "Joining Date: 01-01-2025\n",
      "Enter your minimum package you want: 150000\n",
      "Enter contact gmail: RKT6543@gmail.com\n"
     ]
    }
   ],
   "source": [
    "Address = input(\"Enter your address:\")\n",
    "Name = input(\"enter your name:\")\n",
    "Course_Name= input(\"Enter your course:\")\n",
    "Date = input(\"Joining Date:\")\n",
    "Package = input(\"Enter your minimum package you want:\")\n",
    "Contact_gmail = input(\"Enter contact gmail:\")\n",
    "HR_manager = input(\"Enter HR name:\")\n",
    "\n",
    "print(f\"\"\"\n",
    "{Address}\n",
    "\n",
    "Dear {Name},\n",
    "\n",
    "Subject: Offer of Employment for the position of {Course_Name}\n",
    "\n",
    "We are delighted to extend this formal offer of employment to you for the position of {Course_Name} at our organization. Based on your qualifications and the skills you demonstrated during the recruitment process, we are confident that you will be a valuable addition to our team.\n",
    "\n",
    "As discussed, your expected date of joining is {Date}. Your total compensation package will be {Package}, which includes all salary components as per the company’s policy. Further details regarding your compensation will be provided in your employment contract.\n",
    "\n",
    "We expect you to bring your best efforts to help the company achieve its goals, and we are committed to supporting your professional growth during your time with us.\n",
    "\n",
    "Please confirm your acceptance of this offer by sending an email to {Contact_gmail} your earliest convenience. Should you have any queries regarding this offer, feel free to reach out to us.\n",
    "\n",
    "We look forward to having you onboard and are excited about the great things we can accomplish together.\n",
    "\n",
    "Sincerely,\n",
    "\n",
    "{HR_manager}\n",
    "HR Manager\n",
    "\"\"\")"
   ]
  }
 ],
 "metadata": {
  "kernelspec": {
   "display_name": "Python 3 (ipykernel)",
   "language": "python",
   "name": "python3"
  },
  "language_info": {
   "codemirror_mode": {
    "name": "ipython",
    "version": 3
   },
   "file_extension": ".py",
   "mimetype": "text/x-python",
   "name": "python",
   "nbconvert_exporter": "python",
   "pygments_lexer": "ipython3",
   "version": "3.12.4"
  }
 },
 "nbformat": 4,
 "nbformat_minor": 5
}
