{
 "cells": [
  {
   "cell_type": "code",
   "execution_count": 3,
   "id": "65f04a1f-9762-4e73-ad05-d98a8023329d",
   "metadata": {},
   "outputs": [
    {
     "name": "stdout",
     "output_type": "stream",
     "text": [
      "1\n",
      "2\n",
      "3\n",
      "4\n",
      "5\n",
      "6\n",
      "7\n",
      "8\n",
      "9\n",
      "10\n"
     ]
    }
   ],
   "source": [
    "i = 1\n",
    "for i in range (1,11):\n",
    "    \n",
    "    print(i)"
   ]
  },
  {
   "cell_type": "code",
   "execution_count": 17,
   "id": "f4b7a58d-7b7a-443d-a6f7-9d73838eb78c",
   "metadata": {},
   "outputs": [
    {
     "data": {
      "text/plain": [
       "5050"
      ]
     },
     "execution_count": 17,
     "metadata": {},
     "output_type": "execute_result"
    }
   ],
   "source": [
    "total_sum = 0\n",
    "for i in range (1,101):\n",
    "    total_sum += i\n",
    "total_sum\n"
   ]
  },
  {
   "cell_type": "code",
   "execution_count": 18,
   "id": "5b31ba80-d12a-4d24-8e8e-260778795e88",
   "metadata": {},
   "outputs": [
    {
     "name": "stdin",
     "output_type": "stream",
     "text": [
      "Enter a no. whose table you want: 5\n"
     ]
    },
    {
     "name": "stdout",
     "output_type": "stream",
     "text": [
      "5 x 1 = 5\n",
      "5 x 2 = 10\n",
      "5 x 3 = 15\n",
      "5 x 4 = 20\n",
      "5 x 5 = 25\n",
      "5 x 6 = 30\n",
      "5 x 7 = 35\n",
      "5 x 8 = 40\n",
      "5 x 9 = 45\n",
      "5 x 10 = 50\n"
     ]
    }
   ],
   "source": [
    "i = int(input(\"Enter a no. whose table you want:\"))\n",
    "for i in range (1,11):\n",
    "    print(f\"5 x {i} = {5 * i}\")\n",
    "    "
   ]
  },
  {
   "cell_type": "code",
   "execution_count": 25,
   "id": "33c2ec09-39e5-4c1a-bfdb-a9f52d045a41",
   "metadata": {},
   "outputs": [
    {
     "name": "stdout",
     "output_type": "stream",
     "text": [
      "even numbers: 5\n",
      "odd numbers: 5\n"
     ]
    }
   ],
   "source": [
    "numbers = [1, 2, 3, 4, 5, 6, 7, 8, 9, 10]\n",
    "even_count = 0\n",
    "odd_count = 0\n",
    "for item in numbers:\n",
    "    if item%2==0:\n",
    "        even_count += 1\n",
    "    else:\n",
    "        odd_count += 1\n",
    "print(\"even numbers:\",even_count) \n",
    "print(\"odd numbers:\",odd_count)\n",
    "        "
   ]
  },
  {
   "cell_type": "code",
   "execution_count": 1,
   "id": "eefcea35-1a25-49ca-99dc-40fe46b64385",
   "metadata": {},
   "outputs": [
    {
     "name": "stdin",
     "output_type": "stream",
     "text": [
      "Enter a number:  5\n"
     ]
    },
    {
     "data": {
      "text/plain": [
       "120"
      ]
     },
     "execution_count": 1,
     "metadata": {},
     "output_type": "execute_result"
    }
   ],
   "source": [
    "num = int(input(\"Enter a number: \"))\n",
    "\n",
    "factorial = 1\n",
    "for i in range(1, num + 1):\n",
    "    factorial *= i\n",
    "\n",
    "factorial\n"
   ]
  },
  {
   "cell_type": "code",
   "execution_count": 2,
   "id": "b0e120ee-1c4f-42aa-bf62-95aa3971f5b8",
   "metadata": {},
   "outputs": [
    {
     "name": "stdin",
     "output_type": "stream",
     "text": [
      "Enter the number of terms:  6\n"
     ]
    },
    {
     "name": "stdout",
     "output_type": "stream",
     "text": [
      "Fibonacci sequence:\n",
      "0 1 1 2 3 5 "
     ]
    }
   ],
   "source": [
    "n = int(input(\"Enter the number of terms: \"))\n",
    "a, b = 0, 1\n",
    "print(\"Fibonacci sequence:\")\n",
    "for _ in range(n):\n",
    "    print(a, end=\" \")\n",
    "    a, b = b, a + b\n"
   ]
  },
  {
   "cell_type": "code",
   "execution_count": 3,
   "id": "f7d6e030-d91a-4c17-9dcf-95c45e1f3fcb",
   "metadata": {},
   "outputs": [
    {
     "name": "stdin",
     "output_type": "stream",
     "text": [
      "Enter a number: 7\n"
     ]
    },
    {
     "name": "stdout",
     "output_type": "stream",
     "text": [
      "7 is a Prime number\n"
     ]
    }
   ],
   "source": [
    "num = int(input(\"Enter a number:\"))\n",
    "is_prime = True\n",
    "\n",
    "if num <= 1:\n",
    "    is_prime = False\n",
    "else:\n",
    "    for i in range(2, num):\n",
    "        if num % i == 0:\n",
    "            is_prime = False\n",
    "            break\n",
    "\n",
    "if is_prime:\n",
    "    print(f\"{num} is a Prime number\")\n",
    "else:\n",
    "    print(f\"{num} is NOT a Prime number\")\n"
   ]
  },
  {
   "cell_type": "code",
   "execution_count": 4,
   "id": "c48b7fe1-4d7d-44fe-abe7-26bd79979429",
   "metadata": {},
   "outputs": [
    {
     "name": "stdout",
     "output_type": "stream",
     "text": [
      "Largest element is: 67\n"
     ]
    }
   ],
   "source": [
    "numbers = [10, 45, 23, 67, 12]\n",
    "largest = numbers[0]\n",
    "\n",
    "for num in numbers:\n",
    "    if num > largest:\n",
    "        largest = num\n",
    "\n",
    "print(\"Largest element is:\", largest)\n"
   ]
  },
  {
   "cell_type": "code",
   "execution_count": 5,
   "id": "153f2b37-ab6c-419b-98c8-e9459e7ce6f5",
   "metadata": {},
   "outputs": [
    {
     "name": "stdin",
     "output_type": "stream",
     "text": [
      "Enter a string:  RITESH\n"
     ]
    },
    {
     "name": "stdout",
     "output_type": "stream",
     "text": [
      "Reversed string is: HSETIR\n"
     ]
    }
   ],
   "source": [
    "text = input(\"Enter a string: \")\n",
    "reversed_str = \"\"\n",
    "\n",
    "for ch in text:\n",
    "    reversed_str = ch + reversed_str\n",
    "\n",
    "print(\"Reversed string is:\", reversed_str)\n"
   ]
  },
  {
   "cell_type": "code",
   "execution_count": 6,
   "id": "608ce73f-e3c9-4634-9044-932562d105e7",
   "metadata": {},
   "outputs": [
    {
     "name": "stdout",
     "output_type": "stream",
     "text": [
      "Common elements: [1]\n"
     ]
    }
   ],
   "source": [
    "list1 = [1, 2, 3]\n",
    "list2 = [4, 5, 1]\n",
    "common = []\n",
    "\n",
    "for item in list1:\n",
    "    if item in list2:\n",
    "        common.append(item)\n",
    "print(\"Common elements:\", common)\n"
   ]
  }
 ],
 "metadata": {
  "kernelspec": {
   "display_name": "Python 3 (ipykernel)",
   "language": "python",
   "name": "python3"
  },
  "language_info": {
   "codemirror_mode": {
    "name": "ipython",
    "version": 3
   },
   "file_extension": ".py",
   "mimetype": "text/x-python",
   "name": "python",
   "nbconvert_exporter": "python",
   "pygments_lexer": "ipython3",
   "version": "3.12.4"
  }
 },
 "nbformat": 4,
 "nbformat_minor": 5
}
