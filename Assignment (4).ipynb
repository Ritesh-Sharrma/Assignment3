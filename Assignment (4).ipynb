{
 "cells": [
  {
   "cell_type": "code",
   "execution_count": 1,
   "id": "a3e6fe56-e3b3-46ff-9172-e30b3928011b",
   "metadata": {},
   "outputs": [
    {
     "name": "stdin",
     "output_type": "stream",
     "text": [
      "Enter number of units consumed:  100\n",
      "Enter Next unit: 100\n",
      "Enter After unit: 200\n"
     ]
    },
    {
     "name": "stdout",
     "output_type": "stream",
     "text": [
      "You total Bill is : 2000\n"
     ]
    }
   ],
   "source": [
    "\n",
    "unit1 = int(input(\"Enter number of units consumed: \"))\n",
    "unit2  = int(input(\"Enter Next unit:\"))\n",
    "unit3  = int(input(\"Enter After unit:\"))\n",
    "\n",
    "bill1 = unit1 * 0\n",
    "\n",
    "if unit2 >= 100:\n",
    "    bill2 = 5 * unit2\n",
    "\n",
    "if unit3 >= 200:\n",
    "    bill3 = unit3 * 10\n",
    "else:\n",
    "    print(\"Enter a vaild input!\")\n",
    "a = bill3 - bill2\n",
    "Actual_Bill = a + bill1 + bill2\n",
    "print(\"You total Bill is :\",Actual_Bill)"
   ]
  },
  {
   "cell_type": "code",
   "execution_count": 3,
   "id": "4ff16fc8-d3d2-4451-b621-344b9cb6f71a",
   "metadata": {},
   "outputs": [
    {
     "name": "stdin",
     "output_type": "stream",
     "text": [
      "Enter percentage  91\n"
     ]
    },
    {
     "name": "stdout",
     "output_type": "stream",
     "text": [
      "Your grade is: A\n"
     ]
    }
   ],
   "source": [
    "percentage=int(input(\"Enter percentage \"))\n",
    "\n",
    "if percentage > 90:\n",
    "    grade = 'A'\n",
    "elif percentage > 80:\n",
    "    grade = 'B'\n",
    "elif percentage >= 60:\n",
    "    grade = 'C'\n",
    "else:\n",
    "    grade = 'D'\n",
    "\n",
    "print(\"Your grade is:\", grade)\n"
   ]
  },
  {
   "cell_type": "code",
   "execution_count": 4,
   "id": "e8bdf5c2-8ab0-4846-bb34-7992c4f964ee",
   "metadata": {},
   "outputs": [
    {
     "name": "stdin",
     "output_type": "stream",
     "text": [
      "Enter salary: 20000\n",
      "Enter year of service: 5\n"
     ]
    },
    {
     "name": "stdout",
     "output_type": "stream",
     "text": [
      "Your bonus amount is: Rs 1000.0\n"
     ]
    }
   ],
   "source": [
    "salary = float(input(\"Enter salary:\"))\n",
    "years = int(input(\"Enter year of service:\"))\n",
    "\n",
    "if years > 10:\n",
    "    bonus =salary * 0.10\n",
    "elif years >= 6:\n",
    "    bonus = salary * 0.08\n",
    "else:\n",
    "    bonus = salary *0.05\n",
    "\n",
    "print(\"Your bonus amount is: Rs\", bonus)\n"
   ]
  },
  {
   "cell_type": "code",
   "execution_count": 5,
   "id": "44ca2a63-18bb-473b-8194-c80d1718f661",
   "metadata": {},
   "outputs": [
    {
     "name": "stdin",
     "output_type": "stream",
     "text": [
      "Enter first number:  90\n",
      "Enter second number:  100\n",
      "Enter third number:  110\n"
     ]
    },
    {
     "name": "stdout",
     "output_type": "stream",
     "text": [
      "Second largest number is: 100\n"
     ]
    }
   ],
   "source": [
    "a = int(input(\"Enter first number: \"))\n",
    "b = int(input(\"Enter second number: \"))\n",
    "c = int(input(\"Enter third number: \"))\n",
    "\n",
    "if (a > b and a < c) or (a < b and a > c):\n",
    "    second = a\n",
    "elif (b > a and b < c) or (b < a and b > c):\n",
    "    second = b\n",
    "else:\n",
    "    second = c\n",
    "\n",
    "print(\"Second largest number is:\", second)\n"
   ]
  },
  {
   "cell_type": "code",
   "execution_count": 6,
   "id": "bcb44c1f-614e-4060-ac82-6d6d52e76175",
   "metadata": {},
   "outputs": [
    {
     "name": "stdin",
     "output_type": "stream",
     "text": [
      "Enter marked price 9000\n"
     ]
    },
    {
     "name": "stdout",
     "output_type": "stream",
     "text": [
      "amount to pay is 7650.0\n"
     ]
    }
   ],
   "source": [
    "Market_p =int(input(\"Enter marked price\"))\n",
    "\n",
    "if Market_p > 10000:\n",
    "    Discount = 0.20 * Market_p\n",
    "elif Market_p > 7000:\n",
    "    Discount = 0.15 * Market_p\n",
    "else:\n",
    "    Discount = 0.10 * Market_p\n",
    "\n",
    "net_amount = Market_p-Discount\n",
    "print(\"amount to pay is\", net_amount)\n"
   ]
  },
  {
   "cell_type": "code",
   "execution_count": 7,
   "id": "2a62d7e3-36e1-4736-99ad-a9cdaa0ae1a6",
   "metadata": {},
   "outputs": [
    {
     "name": "stdin",
     "output_type": "stream",
     "text": [
      "Enter marked price 8000\n"
     ]
    },
    {
     "name": "stdout",
     "output_type": "stream",
     "text": [
      "amount to pay is 6800.0\n"
     ]
    }
   ],
   "source": [
    "Market_p =int(input(\"Enter marked price\"))\n",
    "\n",
    "if Market_p > 10000:\n",
    "    Discount = 0.20 * Market_p\n",
    "elif Market_p > 7000:\n",
    "    Discount = 0.15 * Market_p\n",
    "else:\n",
    "    Discount = 0.10 * Market_p\n",
    "\n",
    "net_amount = Market_p-Discount\n",
    "print(\"amount to pay is\", net_amount)\n"
   ]
  },
  {
   "cell_type": "code",
   "execution_count": 8,
   "id": "c8e6ed65-885e-4a49-99c0-3ba125d4563b",
   "metadata": {},
   "outputs": [
    {
     "name": "stdin",
     "output_type": "stream",
     "text": [
      "Enter a number: 25\n"
     ]
    },
    {
     "name": "stdout",
     "output_type": "stream",
     "text": [
      "Hello\n"
     ]
    }
   ],
   "source": [
    "n = int(input(\"Enter a number:\"))\n",
    "\n",
    "if n % 5 == 0:\n",
    "    print(\"Hello\")\n",
    "else:\n",
    "    print(\"Bye\")\n"
   ]
  },
  {
   "cell_type": "code",
   "execution_count": 9,
   "id": "d95e6a6a-95d1-4907-8ae6-51d6d115b1e3",
   "metadata": {},
   "outputs": [
    {
     "name": "stdin",
     "output_type": "stream",
     "text": [
      "Enter a number:  349\n"
     ]
    },
    {
     "name": "stdout",
     "output_type": "stream",
     "text": [
      "Last digit is divisible by 3\n"
     ]
    }
   ],
   "source": [
    "num = int(input(\"Enter a number: \"))\n",
    "last_digit = num % 10\n",
    "\n",
    "if last_digit % 3 == 0:\n",
    "    print(\"Last digit is divisible by 3\")\n",
    "else:\n",
    "    print(\"Last digit is not divisible by 3\")\n"
   ]
  },
  {
   "cell_type": "code",
   "execution_count": 10,
   "id": "52c448a0-3a10-4ec6-9907-8bd103d131e1",
   "metadata": {},
   "outputs": [
    {
     "name": "stdin",
     "output_type": "stream",
     "text": [
      "Enter a number:  123\n"
     ]
    },
    {
     "name": "stdout",
     "output_type": "stream",
     "text": [
      "It is a three-digit number\n"
     ]
    }
   ],
   "source": [
    "num = int(input(\"Enter a number: \"))\n",
    "\n",
    "if 100 <= num <= 999:\n",
    "    print(\"It is a three-digit number\")\n",
    "else:\n",
    "    print(\"It is not a three-digit number\")\n"
   ]
  }
 ],
 "metadata": {
  "kernelspec": {
   "display_name": "Python 3 (ipykernel)",
   "language": "python",
   "name": "python3"
  },
  "language_info": {
   "codemirror_mode": {
    "name": "ipython",
    "version": 3
   },
   "file_extension": ".py",
   "mimetype": "text/x-python",
   "name": "python",
   "nbconvert_exporter": "python",
   "pygments_lexer": "ipython3",
   "version": "3.12.4"
  }
 },
 "nbformat": 4,
 "nbformat_minor": 5
}
